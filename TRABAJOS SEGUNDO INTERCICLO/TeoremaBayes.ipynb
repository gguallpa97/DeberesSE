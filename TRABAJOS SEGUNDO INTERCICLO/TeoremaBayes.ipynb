{
 "cells": [
  {
   "cell_type": "markdown",
   "metadata": {},
   "source": [
    "## UNIVERSIDAD POLITÉCNICA SALESIANA\n",
    "\n",
    "## El VECINO - CUENCA\n",
    "Estudiante: Gustavo Guallpa\n",
    "\n",
    "Profesor: Ing. Diego Quisi.\n",
    "\n",
    "Asignatura: Sistemas Expertos\n",
    "\n",
    "Tema:Reglas de Bayes.\n",
    "\n"
   ]
  },
  {
   "cell_type": "markdown",
   "metadata": {},
   "source": [
    "1. Analizar las siguientes herramientas on-line para realizar el cálculo\n",
    "de la Regla de Bayes, aplicar un cálculo y realizar la captura de\n",
    "pantalla de los valores obtenidos:\n",
    "\n",
    "http://stattrek.com/online-calculator/bayes-rule-calculator.aspx\n",
    "\n",
    "http://www.ugr.es/~jsalinas/bayes.htm\n",
    "\n",
    "## PROBLEMA A SOLUCIONAR\n",
    "\n",
    "En cierta región del país se sabe por experiencia que la probabilidad de seleccionar un adulto mayor de 40 años de edad con cáncer es 0.05. Si la probabilidad de que un doctor diagnostique de forma correcta que una persona con cáncer tiene la enfermedad es 0.78, y la probabilidad de que diagnostique de forma incorrecta que una persona sin cáncer tiene la enfermedad es 0.06, ¿cuál es la probabilidad de que a un adulto mayor de 40 años se le diagnostique cáncer?\n",
    "\n",
    "## DIAGRAMA DE SUCESOS\n",
    "\n",
    "Persona con cáncer =C\n",
    "\n",
    "Persona sin cáncer =SC\n",
    "\n",
    "Diagnóstico correcto=DC\n",
    "\n",
    "Diagnostico incorrecto =DI\n",
    "\n",
    "## PROBABILIDADES\n",
    "\n",
    "<img src=\"img/f1.PNG\">\n",
    "\n",
    "\n",
    "## CALCULOS\n",
    "PRIMERO VAMOS A CALCULAR LA PROBABILIDAD DE AQUELLAS PERSONAS QUE REALMENTE SI TIENEN CANCER.\n",
    "\n",
    "<img src=\"img/f2.PNG\">\n",
    "\n",
    "\n",
    "## VERIFICACION DE LOS RESULTADOS\n",
    "\n",
    "\n",
    "\n",
    "http://www.ugr.es/~jsalinas/bayes.htm\n",
    "<img src=\"img/f3.png\">\n",
    "http://stattrek.com/online-calculator/bayes-rule-calculator.aspx\n",
    "\n",
    "<img src=\"img/f4.png\">"
   ]
  },
  {
   "cell_type": "markdown",
   "metadata": {},
   "source": [
    "2. Con el ejerccio anteriormente realizado, realizar su comprobacion para ello\n",
    "utilizando el lenguaje de PYTHON."
   ]
  },
  {
   "cell_type": "code",
   "execution_count": 7,
   "metadata": {},
   "outputs": [
    {
     "name": "stdout",
     "output_type": "stream",
     "text": [
      "LA PROBABILIDA ES DE: \n",
      "0.40625000000000006\n",
      "LA PROBABILIDA ES EN PORCENTAJES ES DE :\n",
      "P(A|B) = 40.625%\n"
     ]
    }
   ],
   "source": [
    "def calculadora_bayes(proA, proBdadoA, proBdadoNoOcurreA):\n",
    "\tno_a = 1 - proA\n",
    "\tproB = proBdadoA * proA + proBdadoNoOcurreA * no_a\n",
    "\tproAdadoB = (proBdadoA * proA) / proB \n",
    "\treturn proAdadoB\n",
    " \n",
    "proA = 0.05\n",
    "proBdadoA = 0.78\n",
    "proBdadoNoOcurreA = 0.06\n",
    "resultado = calculadora_bayes(proA, proBdadoA, proBdadoNoOcurreA)\n",
    "print(\"LA PROBABILIDA ES DE: \")\n",
    "print(resultado)\n",
    "print(\"LA PROBABILIDA ES EN PORCENTAJES ES DE :\")\n",
    "print('P(A|B) = %.3f%%' % (resultado * 100))"
   ]
  },
  {
   "cell_type": "markdown",
   "metadata": {},
   "source": [
    "### CONCLUSIONES\n",
    "Se puede evindeciar que tanto con las herramientas en la web y la funcion en python para calcular se obtiene los mismo valores lo que nos permite evidenciar que los calculos realizados a mano son correctos.\n"
   ]
  },
  {
   "cell_type": "code",
   "execution_count": null,
   "metadata": {},
   "outputs": [],
   "source": []
  }
 ],
 "metadata": {
  "kernelspec": {
   "display_name": "Python 3",
   "language": "python",
   "name": "python3"
  },
  "language_info": {
   "codemirror_mode": {
    "name": "ipython",
    "version": 3
   },
   "file_extension": ".py",
   "mimetype": "text/x-python",
   "name": "python",
   "nbconvert_exporter": "python",
   "pygments_lexer": "ipython3",
   "version": "3.7.6"
  }
 },
 "nbformat": 4,
 "nbformat_minor": 4
}
